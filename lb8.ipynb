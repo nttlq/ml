{
 "cells": [
  {
   "cell_type": "markdown",
   "metadata": {
    "colab_type": "text",
    "id": "view-in-github"
   },
   "source": [
    "<a href=\"https://colab.research.google.com/github/showpiecep/ML_labs/blob/main/lab8.ipynb\" target=\"_parent\"><img src=\"https://colab.research.google.com/assets/colab-badge.svg\" alt=\"Open In Colab\"/></a>"
   ]
  },
  {
   "cell_type": "code",
   "execution_count": 28,
   "metadata": {
    "colab": {
     "base_uri": "https://localhost:8080/",
     "height": 206
    },
    "id": "Ylq1Fg9hr33E",
    "outputId": "24871b37-db3d-4d8d-9e46-ed0b3e97ce26"
   },
   "outputs": [
    {
     "data": {
      "text/html": [
       "<div>\n",
       "<style scoped>\n",
       "    .dataframe tbody tr th:only-of-type {\n",
       "        vertical-align: middle;\n",
       "    }\n",
       "\n",
       "    .dataframe tbody tr th {\n",
       "        vertical-align: top;\n",
       "    }\n",
       "\n",
       "    .dataframe thead th {\n",
       "        text-align: right;\n",
       "    }\n",
       "</style>\n",
       "<table border=\"1\" class=\"dataframe\">\n",
       "  <thead>\n",
       "    <tr style=\"text-align: right;\">\n",
       "      <th></th>\n",
       "      <th>0</th>\n",
       "      <th>1</th>\n",
       "      <th>2</th>\n",
       "      <th>3</th>\n",
       "      <th>4</th>\n",
       "    </tr>\n",
       "  </thead>\n",
       "  <tbody>\n",
       "    <tr>\n",
       "      <th>0</th>\n",
       "      <td>5.1</td>\n",
       "      <td>3.5</td>\n",
       "      <td>1.4</td>\n",
       "      <td>0.2</td>\n",
       "      <td>Iris-setosa</td>\n",
       "    </tr>\n",
       "    <tr>\n",
       "      <th>1</th>\n",
       "      <td>4.9</td>\n",
       "      <td>3.0</td>\n",
       "      <td>1.4</td>\n",
       "      <td>0.2</td>\n",
       "      <td>Iris-setosa</td>\n",
       "    </tr>\n",
       "    <tr>\n",
       "      <th>2</th>\n",
       "      <td>4.7</td>\n",
       "      <td>3.2</td>\n",
       "      <td>1.3</td>\n",
       "      <td>0.2</td>\n",
       "      <td>Iris-setosa</td>\n",
       "    </tr>\n",
       "    <tr>\n",
       "      <th>3</th>\n",
       "      <td>4.6</td>\n",
       "      <td>3.1</td>\n",
       "      <td>1.5</td>\n",
       "      <td>0.2</td>\n",
       "      <td>Iris-setosa</td>\n",
       "    </tr>\n",
       "    <tr>\n",
       "      <th>4</th>\n",
       "      <td>5.0</td>\n",
       "      <td>3.6</td>\n",
       "      <td>1.4</td>\n",
       "      <td>0.2</td>\n",
       "      <td>Iris-setosa</td>\n",
       "    </tr>\n",
       "    <tr>\n",
       "      <th>...</th>\n",
       "      <td>...</td>\n",
       "      <td>...</td>\n",
       "      <td>...</td>\n",
       "      <td>...</td>\n",
       "      <td>...</td>\n",
       "    </tr>\n",
       "    <tr>\n",
       "      <th>145</th>\n",
       "      <td>6.7</td>\n",
       "      <td>3.0</td>\n",
       "      <td>5.2</td>\n",
       "      <td>2.3</td>\n",
       "      <td>Iris-virginica</td>\n",
       "    </tr>\n",
       "    <tr>\n",
       "      <th>146</th>\n",
       "      <td>6.3</td>\n",
       "      <td>2.5</td>\n",
       "      <td>5.0</td>\n",
       "      <td>1.9</td>\n",
       "      <td>Iris-virginica</td>\n",
       "    </tr>\n",
       "    <tr>\n",
       "      <th>147</th>\n",
       "      <td>6.5</td>\n",
       "      <td>3.0</td>\n",
       "      <td>5.2</td>\n",
       "      <td>2.0</td>\n",
       "      <td>Iris-virginica</td>\n",
       "    </tr>\n",
       "    <tr>\n",
       "      <th>148</th>\n",
       "      <td>6.2</td>\n",
       "      <td>3.4</td>\n",
       "      <td>5.4</td>\n",
       "      <td>2.3</td>\n",
       "      <td>Iris-virginica</td>\n",
       "    </tr>\n",
       "    <tr>\n",
       "      <th>149</th>\n",
       "      <td>5.9</td>\n",
       "      <td>3.0</td>\n",
       "      <td>5.1</td>\n",
       "      <td>1.8</td>\n",
       "      <td>Iris-virginica</td>\n",
       "    </tr>\n",
       "  </tbody>\n",
       "</table>\n",
       "<p>150 rows × 5 columns</p>\n",
       "</div>"
      ],
      "text/plain": [
       "       0    1    2    3               4\n",
       "0    5.1  3.5  1.4  0.2     Iris-setosa\n",
       "1    4.9  3.0  1.4  0.2     Iris-setosa\n",
       "2    4.7  3.2  1.3  0.2     Iris-setosa\n",
       "3    4.6  3.1  1.5  0.2     Iris-setosa\n",
       "4    5.0  3.6  1.4  0.2     Iris-setosa\n",
       "..   ...  ...  ...  ...             ...\n",
       "145  6.7  3.0  5.2  2.3  Iris-virginica\n",
       "146  6.3  2.5  5.0  1.9  Iris-virginica\n",
       "147  6.5  3.0  5.2  2.0  Iris-virginica\n",
       "148  6.2  3.4  5.4  2.3  Iris-virginica\n",
       "149  5.9  3.0  5.1  1.8  Iris-virginica\n",
       "\n",
       "[150 rows x 5 columns]"
      ]
     },
     "execution_count": 28,
     "metadata": {},
     "output_type": "execute_result"
    }
   ],
   "source": [
    "import pandas as pd\n",
    "import numpy as np\n",
    "data = pd.read_csv('iris.data',header=None)\n",
    "data"
   ]
  },
  {
   "cell_type": "code",
   "execution_count": 29,
   "metadata": {
    "id": "mPTaW5RPsTyC"
   },
   "outputs": [],
   "source": [
    "X = data.iloc[:,:4].to_numpy()\n",
    "labels = data.iloc[:,4].to_numpy()"
   ]
  },
  {
   "cell_type": "code",
   "execution_count": 30,
   "metadata": {
    "id": "HyKm97M4sadi"
   },
   "outputs": [],
   "source": [
    "from sklearn import preprocessing\n",
    "\n",
    "le = preprocessing.LabelEncoder()\n",
    "Y = le.fit_transform(labels)"
   ]
  },
  {
   "cell_type": "code",
   "execution_count": 31,
   "metadata": {
    "id": "S22NelRzsbZw"
   },
   "outputs": [],
   "source": [
    "from sklearn.model_selection import train_test_split\n",
    "X_train, X_test, y_train, y_test = train_test_split(X, Y, test_size=0.5)"
   ]
  },
  {
   "cell_type": "code",
   "execution_count": 32,
   "metadata": {
    "colab": {
     "base_uri": "https://localhost:8080/"
    },
    "id": "UmFXvmBzsg1G",
    "outputId": "03a92e3e-4889-4234-929d-a8f439475e45"
   },
   "outputs": [
    {
     "name": "stdout",
     "output_type": "stream",
     "text": [
      "3\n"
     ]
    }
   ],
   "source": [
    "X_train, X_test, y_train, y_test = train_test_split(X, Y, test_size=0.5, random_state=0)\n",
    "\n",
    "from sklearn.discriminant_analysis import LinearDiscriminantAnalysis\n",
    "\n",
    "clf = LinearDiscriminantAnalysis()\n",
    "y_pred = clf.fit(X_train, y_train).predict(X_test)\n",
    "\n",
    "print((y_test != y_pred).sum()) #количество наблюдений, который были неправильно определены"
   ]
  },
  {
   "cell_type": "markdown",
   "metadata": {
    "id": "5FbhXmleKDAO"
   },
   "source": [
    "Параметры\n",
    "\n",
    "1. solver - определяет метод решения задачи оптимизации. Возможные значения: 'svd' (сингулярное разложение), 'lsqr' (метод наименьших квадратов), 'eigen' (разложение по собственным векторам).\n",
    "\n",
    "2. shrinkage - определяет коэффициент сжатия для матрицы ковариации. Возможные значения: None (без сжатия), 'auto' (автоматический выбор коэффициента), float (заданный коэффициент).\n",
    "\n",
    "3. priors - массив, содержащий априорные вероятности каждого класса.\n",
    "\n",
    "4. n_components - число компонент, которые нужно оставить после сокращения размерности.\n",
    "\n",
    "5. store_covariance - флаг, указывающий, нужно ли сохранять матрицу ковариации.\n",
    "\n",
    "6. tol - точность решения задачи оптимизации.\n",
    "\n",
    "7. covariance_estimator - оценщик матрицы ковариации, который будет использоваться, если параметр shrinkage равен 'auto'. Возможные значения: 'empirical' (эмпирическая оценка), 'ledoit_wolf' (оценка Ledoit-Wolf), 'oas' (оценка OAS).\n",
    "\n",
    "8. priors - априорные вероятности классов.\n",
    "\n",
    "9. tol - точность решения задачи оптимизации.\n",
    "\n",
    "10. store_covariance - флаг, указывающий, нужно ли сохранять матрицу ковариации.\n",
    "\n",
    "11. tol - точность решения задачи оптимизации.\n",
    "\n",
    "12. covariance_estimator - оценщик матрицы ковариации, который будет использоваться, если параметр shrinkage равен 'auto'. Возможные значения: 'empirical' (эмпирическая оценка), 'ledoit_wolf' (оценка Ledoit-Wolf), 'oas' (оценка OAS).\n",
    "\n",
    "Атрибуты\n",
    "\n",
    "1. coef_ - коэффициенты линейной комбинации признаков для каждого класса.\n",
    "\n",
    "2. intercept_ - свободный член линейной комбинации признаков для каждого класса.\n",
    "\n",
    "3. means_ - средние значения признаков для каждого класса.\n",
    "\n",
    "4. priors_ - априорные вероятности каждого класса.\n",
    "\n",
    "5. covariance_ - матрица ковариации признаков для всех классов (если параметр store_covariance установлен в True).\n",
    "\n",
    "6. explained_variance_ratio_ - процент дисперсии, объясненной каждой компонентой после сокращения размерности.\n",
    "\n",
    "7. classes_ - список классов.\n",
    "\n",
    "8. scalings_ - веса линейной комбинации признаков для каждой компоненты после сокращения размерности.\n",
    "\n",
    "9. xbar_ - среднее значение признаков по всем классам.\n",
    "\n",
    "10. covariance_estimator_ - оценщик матрицы ковариации (если параметр shrinkage установлен в 'auto')."
   ]
  },
  {
   "cell_type": "code",
   "execution_count": 33,
   "metadata": {
    "colab": {
     "base_uri": "https://localhost:8080/"
    },
    "id": "mSFudrWDskDk",
    "outputId": "82a212f5-6940-4c29-ea4a-eb237c2d7fd3"
   },
   "outputs": [
    {
     "name": "stdout",
     "output_type": "stream",
     "text": [
      "Точность классификации 96.0%\n"
     ]
    }
   ],
   "source": [
    "print(f'Точность классификации {clf.fit(X_train, y_train).score(X_test, y_test) * 100}%')"
   ]
  },
  {
   "cell_type": "code",
   "execution_count": 34,
   "metadata": {
    "colab": {
     "base_uri": "https://localhost:8080/",
     "height": 808
    },
    "id": "e5D4DD2qKMJ4",
    "outputId": "c5fc7e58-c74a-41e3-d153-a8afdce50fb7"
   },
   "outputs": [
    {
     "data": {
      "image/png": "[encoded data removed]",
      "text/plain": [
       "<Figure size 1700x1000 with 1 Axes>"
      ]
     },
     "metadata": {},
     "output_type": "display_data"
    }
   ],
   "source": [
    "import matplotlib.pyplot as plt\n",
    "\n",
    "size = 0\n",
    "list_test_size = []\n",
    "percentage_misclassified_observations = []\n",
    "classification_accuracy = []\n",
    "\n",
    "while size <= 0.95:\n",
    "    size += 0.05\n",
    "\n",
    "    X_train, X_test, y_train, y_test = train_test_split(X, Y, test_size=size)\n",
    "    gnb = LinearDiscriminantAnalysis()\n",
    "    y_pred = gnb.fit(X_train, y_train).predict(X_test)\n",
    "\n",
    "    list_test_size.append(size)\n",
    "    percentage_misclassified_observations.append(np.count_nonzero(y_test != y_pred) / len(y_pred))\n",
    "    classification_accuracy.append(gnb.fit(X_train, y_train).score(X_test, y_test))\n",
    "\n",
    "fig, ax = plt.subplots(figsize=(17, 10))\n",
    "\n",
    "ax.bar(list_test_size, classification_accuracy, width=0.03)\n",
    "ax.bar(list_test_size, percentage_misclassified_observations, width=0.03)\n",
    "\n",
    "ax.set_facecolor('seashell')\n",
    "fig.set_facecolor('floralwhite')\n",
    "\n",
    "plt.xlabel('Размер тестовой выборки')\n",
    "plt.ylabel('Неправильно классифицированные наблюдения (оранжевый) и точность классификации (синий)')\n",
    "plt.title(\n",
    "    label='График зависимости неправильно классифицированных наблюдений и точности классификации от размера тестовой выборки.',\n",
    "    fontweight=12)\n",
    "\n",
    "plt.show()"
   ]
  },
  {
   "cell_type": "markdown",
   "metadata": {
    "id": "66Jhj8YEMAKe"
   },
   "source": [
    "Используя функцию transform"
   ]
  },
  {
   "cell_type": "code",
   "execution_count": 35,
   "metadata": {
    "colab": {
     "base_uri": "https://localhost:8080/",
     "height": 1000
    },
    "id": "7z3TkHfeKTk4",
    "outputId": "588e2310-16cf-4224-de74-fe5f6a8da3ee"
   },
   "outputs": [
    {
     "data": {
      "image/png": "[encoded data removed]",
      "text/plain": [
       "<Figure size 1700x1000 with 1 Axes>"
      ]
     },
     "metadata": {},
     "output_type": "display_data"
    }
   ],
   "source": [
    "import warnings\n",
    "import sys\n",
    "import os\n",
    "\n",
    "if not sys.warnoptions:\n",
    "    warnings.simplefilter(\"ignore\")\n",
    "    os.environ[\"PYTHONWARNINGS\"] = \"ignore\"\n",
    "\n",
    "size = 0\n",
    "list_test_size = []\n",
    "percentage_misclassified_observations = []\n",
    "classification_accuracy = []\n",
    "\n",
    "while size <= 0.95:\n",
    "    size += 0.05\n",
    "\n",
    "    X_train, X_test, y_train, y_test = train_test_split(X, Y, test_size=size)\n",
    "    gnb = LinearDiscriminantAnalysis()\n",
    "    y_pred = gnb.fit(X_train, y_train).transform(X_test)\n",
    "\n",
    "    list_test_size.append(size)\n",
    "    percentage_misclassified_observations.append(np.count_nonzero(y_test != y_pred) / len(y_pred))\n",
    "    classification_accuracy.append(gnb.fit(X_train, y_train).score(X_test, y_test))\n",
    "\n",
    "fig, ax = plt.subplots(figsize=(17, 10))\n",
    "\n",
    "ax.bar(list_test_size, classification_accuracy, width=0.03)\n",
    "ax.bar(list_test_size, percentage_misclassified_observations, width=0.03)\n",
    "\n",
    "ax.set_facecolor('seashell')\n",
    "fig.set_facecolor('floralwhite')\n",
    "\n",
    "plt.xlabel('Размер тестовой выборки')\n",
    "plt.ylabel('Неправильно классифицированные наблюдения (оранжевый) и точность классификации (синий)')\n",
    "\n",
    "plt.show()"
   ]
  },
  {
   "cell_type": "code",
   "execution_count": 36,
   "metadata": {
    "colab": {
     "base_uri": "https://localhost:8080/"
    },
    "id": "0DMUX2YASaaM",
    "outputId": "094ac1e6-9f23-4c5f-b171-c4ddf5d930d0"
   },
   "outputs": [
    {
     "name": "stdout",
     "output_type": "stream",
     "text": [
      "solver: svd, количество параметров которые неправильно были определены: 0\n",
      "solver: lsqr, shrinkage: 0.9057709768571125 - количество параметров которые неправильно были определены: 5\n",
      "solver: eigen, shrinkage: 0.7439204873860001 - количество параметров которые неправильно были определены: 5\n"
     ]
    }
   ],
   "source": [
    "from random import uniform\n",
    "\n",
    "solver_parameters = ('svd', 'lsqr', 'eigen')\n",
    "\n",
    "for parameter in solver_parameters:\n",
    "    X_train, X_test, y_train, y_test = train_test_split(X, Y, test_size=0.5)\n",
    "    if parameter != 'svd':\n",
    "        rand_shrinkage = uniform(0.05, 1)\n",
    "        gnb = LinearDiscriminantAnalysis(solver=parameter, shrinkage=rand_shrinkage)\n",
    "        y_pred = gnb.fit(X_train, y_train).predict(X_test)\n",
    "        print(\n",
    "            f'solver: {parameter}, shrinkage: {rand_shrinkage} - количество параметров которые неправильно были определены: {np.count_nonzero(y_test != y_pred)}')\n",
    "    else:\n",
    "        gnb = LinearDiscriminantAnalysis(solver=parameter)\n",
    "        y_pred = gnb.fit(X_train, y_train).predict(X_test)\n",
    "        print(f'solver: {parameter}, количество параметров которые неправильно были определены: {np.count_nonzero(y_test != y_pred)}')"
   ]
  },
  {
   "cell_type": "code",
   "execution_count": 37,
   "metadata": {
    "colab": {
     "base_uri": "https://localhost:8080/"
    },
    "id": "RPKgx6LMSo-N",
    "outputId": "be51d008-940c-481f-90fe-67b3dcbda526"
   },
   "outputs": [
    {
     "name": "stdout",
     "output_type": "stream",
     "text": [
      "1\n",
      "Точность классификации 98.66666666666667%\n"
     ]
    }
   ],
   "source": [
    "X_train, X_test, y_train, y_test = train_test_split(X, Y, test_size=0.5)\n",
    "gnb = LinearDiscriminantAnalysis(priors=[0.7, 0.15, 0.15])\n",
    "y_pred = gnb.fit(X_train, y_train).predict(X_test)\n",
    "\n",
    "print(np.count_nonzero(y_test != y_pred))\n",
    "print(f'Точность классификации {clf.fit(X_train, y_train).score(X_test, y_test) * 100}%')"
   ]
  },
  {
   "cell_type": "code",
   "execution_count": 38,
   "metadata": {
    "colab": {
     "base_uri": "https://localhost:8080/"
    },
    "id": "ss_sC8TZSqsT",
    "outputId": "a23ccaae-ad5e-4ec9-f490-84af2376439b"
   },
   "outputs": [
    {
     "name": "stdout",
     "output_type": "stream",
     "text": [
      "2\n",
      "0.96\n"
     ]
    }
   ],
   "source": [
    "from sklearn import svm\n",
    "\n",
    "clf = svm.SVC()\n",
    "y_pred = clf.fit(X_train, y_train).predict(X_test)\n",
    "print(np.count_nonzero(y_test != y_pred))\n",
    "print(clf.score(X, Y))"
   ]
  },
  {
   "cell_type": "code",
   "execution_count": 39,
   "metadata": {
    "colab": {
     "base_uri": "https://localhost:8080/"
    },
    "id": "VcCDNCg1SsKZ",
    "outputId": "f1b70e37-7de7-40ba-b3cf-883490a57f38"
   },
   "outputs": [
    {
     "name": "stdout",
     "output_type": "stream",
     "text": [
      "0.9733333333333334\n"
     ]
    }
   ],
   "source": [
    "print(clf.fit(X_train, y_train).score(X_test, y_test))"
   ]
  },
  {
   "cell_type": "markdown",
   "metadata": {
    "id": "3wKYpdHYTFKA"
   },
   "source": [
    "- \"clf.support_vectors_\" - массив, содержащий опорные векторы, используемые для построения гиперплоскости, разделяющей классы.\n",
    "- \"clf.support_\" - индексы опорных векторов в исходном наборе данных.\n",
    "- \"clf.n_support_\" - количество опорных векторов для каждого класса.\n",
    "\n",
    "Эти атрибуты зависят от выбранного ядра и параметров модели SVM, а также от распределения и сложности данных. Опорные векторы являются важными элементами модели SVM, так как они определяют границы разделения классов и позволяют получить оптимальную гиперплоскость разделения."
   ]
  },
  {
   "cell_type": "code",
   "execution_count": 40,
   "metadata": {
    "colab": {
     "base_uri": "https://localhost:8080/"
    },
    "id": "tSR0oH2UStsk",
    "outputId": "169658e2-f695-4b4e-a293-1f6ea6fc46c6"
   },
   "outputs": [
    {
     "data": {
      "text/plain": [
       "array([[5.1, 3.3, 1.7, 0.5],\n",
       "       [4.5, 2.3, 1.3, 0.3],\n",
       "       [5.1, 3.8, 1.9, 0.4],\n",
       "       [5.4, 3.4, 1.7, 0.2],\n",
       "       [6.3, 2.3, 4.4, 1.3],\n",
       "       [6. , 2.9, 4.5, 1.5],\n",
       "       [5.5, 2.4, 3.8, 1.1],\n",
       "       [6.2, 2.9, 4.3, 1.3],\n",
       "       [5.8, 2.7, 3.9, 1.2],\n",
       "       [5.6, 2.7, 4.2, 1.3],\n",
       "       [5.7, 2.9, 4.2, 1.3],\n",
       "       [6.1, 2.8, 4.7, 1.2],\n",
       "       [5.7, 2.6, 3.5, 1. ],\n",
       "       [6.4, 3.2, 4.5, 1.5],\n",
       "       [5.1, 2.5, 3. , 1.1],\n",
       "       [7. , 3.2, 4.7, 1.4],\n",
       "       [5.6, 3. , 4.5, 1.5],\n",
       "       [6.9, 3.1, 4.9, 1.5],\n",
       "       [5.9, 3.2, 4.8, 1.8],\n",
       "       [6.3, 2.5, 4.9, 1.5],\n",
       "       [6.3, 3.3, 4.7, 1.6],\n",
       "       [6.7, 3. , 5. , 1.7],\n",
       "       [5.4, 3. , 4.5, 1.5],\n",
       "       [5.9, 3. , 5.1, 1.8],\n",
       "       [7.9, 3.8, 6.4, 2. ],\n",
       "       [6. , 3. , 4.8, 1.8],\n",
       "       [6.3, 2.7, 4.9, 1.8],\n",
       "       [6.2, 2.8, 4.8, 1.8],\n",
       "       [7.2, 3. , 5.8, 1.6],\n",
       "       [6.9, 3.1, 5.4, 2.1],\n",
       "       [6.2, 3.4, 5.4, 2.3],\n",
       "       [6.3, 2.8, 5.1, 1.5],\n",
       "       [6.7, 3. , 5.2, 2.3],\n",
       "       [6.1, 3. , 4.9, 1.8],\n",
       "       [6. , 2.2, 5. , 1.5],\n",
       "       [6.4, 3.2, 5.3, 2.3],\n",
       "       [6.9, 3.1, 5.1, 2.3],\n",
       "       [6.4, 2.7, 5.3, 1.9],\n",
       "       [5.8, 2.7, 5.1, 1.9],\n",
       "       [5.7, 2.5, 5. , 2. ]])"
      ]
     },
     "execution_count": 40,
     "metadata": {},
     "output_type": "execute_result"
    }
   ],
   "source": [
    "clf.support_vectors_"
   ]
  },
  {
   "cell_type": "code",
   "execution_count": 41,
   "metadata": {},
   "outputs": [
    {
     "data": {
      "text/plain": [
       "array([ 4, 29, 36, 74, 11, 19, 20, 26, 27, 32, 37, 44, 45, 46, 50, 52, 53,\n",
       "       58, 60, 66, 67, 72, 73,  3,  7,  9, 14, 23, 25, 30, 31, 38, 51, 55,\n",
       "       57, 61, 62, 64, 65, 71])"
      ]
     },
     "execution_count": 41,
     "metadata": {},
     "output_type": "execute_result"
    }
   ],
   "source": [
    "clf.support_"
   ]
  },
  {
   "cell_type": "code",
   "execution_count": 42,
   "metadata": {},
   "outputs": [
    {
     "data": {
      "text/plain": [
       "array([ 4, 19, 17])"
      ]
     },
     "execution_count": 42,
     "metadata": {},
     "output_type": "execute_result"
    }
   ],
   "source": [
    "clf.n_support_"
   ]
  },
  {
   "cell_type": "code",
   "execution_count": 43,
   "metadata": {
    "colab": {
     "base_uri": "https://localhost:8080/",
     "height": 808
    },
    "id": "jeG-Dt7mTDVX",
    "outputId": "3a5beedd-8244-4c97-e90c-cf2ce6be4a02"
   },
   "outputs": [
    {
     "data": {
      "image/png": "[encoded data removed]",
      "text/plain": [
       "<Figure size 1700x1000 with 1 Axes>"
      ]
     },
     "metadata": {},
     "output_type": "display_data"
    }
   ],
   "source": [
    "import matplotlib.pyplot as plt\n",
    "\n",
    "size = 0\n",
    "list_test_size = []\n",
    "percentage_misclassified_observations = []\n",
    "classification_accuracy = []\n",
    "\n",
    "while size <= 0.95:\n",
    "    size += 0.05\n",
    "\n",
    "    X_train, X_test, y_train, y_test = train_test_split(X, Y, test_size=size)\n",
    "    clf = svm.SVC()\n",
    "    y_pred = gnb.fit(X_train, y_train).predict(X_test)\n",
    "\n",
    "    list_test_size.append(size)\n",
    "    percentage_misclassified_observations.append(np.count_nonzero(y_test != y_pred) / len(y_pred))\n",
    "    classification_accuracy.append(gnb.fit(X_train, y_train).score(X_test, y_test))\n",
    "\n",
    "fig, ax = plt.subplots(figsize=(17, 10))\n",
    "\n",
    "ax.bar(list_test_size, classification_accuracy, width=0.03)\n",
    "ax.bar(list_test_size, percentage_misclassified_observations, width=0.03)\n",
    "\n",
    "ax.set_facecolor('seashell')\n",
    "fig.set_facecolor('floralwhite')\n",
    "\n",
    "plt.xlabel('Размер тестовой выборки')\n",
    "plt.ylabel('Неправильно классифицированные наблюдения (оранжевый) и точность классификации (синий)')\n",
    "plt.title(\n",
    "    label='График зависимости неправильно классифицированных наблюдений и точности классификации от размера тестовой выборки.',\n",
    "    fontweight=12)\n",
    "\n",
    "plt.show()"
   ]
  },
  {
   "cell_type": "code",
   "execution_count": 44,
   "metadata": {
    "colab": {
     "base_uri": "https://localhost:8080/"
    },
    "id": "iMDbYOQkTOuX",
    "outputId": "e2b2d596-4650-4fb3-dc22-798768c8f517"
   },
   "outputs": [
    {
     "name": "stdout",
     "output_type": "stream",
     "text": [
      "При kernel=linear, degree=3, max_iter=4, неправильно классифицированные данные: 0, точность классификации: 0.98, векторы поддержки: [[5.1 3.8 1.9 0.4]\n",
      " [4.5 2.3 1.3 0.3]\n",
      " [5.1 3.3 1.7 0.5]\n",
      " [4.8 3.4 1.9 0.2]\n",
      " [6.7 3.  5.  1.7]\n",
      " [5.9 3.2 4.8 1.8]\n",
      " [5.1 2.5 3.  1.1]\n",
      " [6.  2.7 5.1 1.6]\n",
      " [5.5 2.3 4.  1.3]\n",
      " [6.1 3.  4.9 1.8]\n",
      " [6.3 2.8 5.1 1.5]\n",
      " [6.5 3.  5.2 2. ]\n",
      " [4.9 2.5 4.5 1.7]], индексы опорных векторов: [  5  42  86 101   6  12  22 122 141   2  16  67 126], количество опорных векторов для каждого класса: [4 5 4]\n",
      "При kernel=poly, degree=2, max_iter=2, неправильно классифицированные данные: 1, точность классификации: 0.9533333333333334, векторы поддержки: [[4.5 2.3 1.3 0.3]\n",
      " [4.8 3.4 1.9 0.2]\n",
      " [5.4 3.4 1.7 0.2]\n",
      " [5.9 3.2 4.8 1.8]\n",
      " [5.1 2.5 3.  1.1]\n",
      " [4.9 2.4 3.3 1. ]\n",
      " [5.5 2.3 4.  1.3]\n",
      " [6.1 3.  4.9 1.8]\n",
      " [4.9 2.5 4.5 1.7]], индексы опорных векторов: [ 42 101 136  12  22 117 141   2 126], количество опорных векторов для каждого класса: [3 4 2]\n",
      "При kernel=rbf, degree=2, max_iter=4, неправильно классифицированные данные: 0, точность классификации: 0.98, векторы поддержки: [[5.1 3.8 1.9 0.4]\n",
      " [5.7 4.4 1.5 0.4]\n",
      " [4.5 2.3 1.3 0.3]\n",
      " [4.8 3.4 1.9 0.2]\n",
      " [5.4 3.4 1.7 0.2]\n",
      " [6.7 3.  5.  1.7]\n",
      " [5.9 3.2 4.8 1.8]\n",
      " [5.1 2.5 3.  1.1]\n",
      " [5.  2.3 3.3 1. ]\n",
      " [4.9 2.4 3.3 1. ]\n",
      " [5.7 2.6 3.5 1. ]\n",
      " [6.  2.7 5.1 1.6]\n",
      " [5.5 2.3 4.  1.3]\n",
      " [6.1 3.  4.9 1.8]\n",
      " [6.2 2.8 4.8 1.8]\n",
      " [6.3 2.8 5.1 1.5]\n",
      " [7.9 3.8 6.4 2. ]\n",
      " [6.5 3.  5.2 2. ]\n",
      " [4.9 2.5 4.5 1.7]], индексы опорных векторов: [  5  24  42 101 136   6  12  22  39 117 120 122 141   2   4  16  64  67\n",
      " 126], количество опорных векторов для каждого класса: [5 8 6]\n",
      "При kernel=sigmoid, degree=2, max_iter=5, неправильно классифицированные данные: 6, точность классификации: 0.06666666666666667, векторы поддержки: [[4.5 2.3 1.3 0.3]\n",
      " [4.3 3.  1.1 0.1]\n",
      " [4.4 3.  1.3 0.2]\n",
      " [4.4 3.2 1.3 0.2]\n",
      " [5.4 3.4 1.7 0.2]\n",
      " [6.7 3.  5.  1.7]\n",
      " [5.1 2.5 3.  1.1]\n",
      " [5.  2.3 3.3 1. ]\n",
      " [7.  3.2 4.7 1.4]\n",
      " [6.9 3.1 4.9 1.5]\n",
      " [6.7 3.1 4.7 1.5]\n",
      " [4.9 2.4 3.3 1. ]\n",
      " [6.3 2.3 4.4 1.3]\n",
      " [5.  2.  3.5 1. ]\n",
      " [5.5 2.3 4.  1.3]\n",
      " [7.7 3.8 6.7 2.2]\n",
      " [7.9 3.8 6.4 2. ]\n",
      " [7.7 2.8 6.7 2. ]\n",
      " [7.7 3.  6.1 2.3]\n",
      " [7.7 2.6 6.9 2.3]\n",
      " [6.5 3.2 5.1 2. ]], индексы опорных векторов: [ 42  58 104 127 136   6  22  39  55  73  91 117 139 140 141   1  64  97\n",
      " 100 105 138], количество опорных векторов для каждого класса: [ 5 10  6]\n"
     ]
    }
   ],
   "source": [
    "from random import randint\n",
    "\n",
    "X_train, X_test, y_train, y_test = train_test_split(X, Y, test_size=0.05)\n",
    "\n",
    "kernel_parameters = ('linear', 'poly', 'rbf', 'sigmoid')\n",
    "\n",
    "for parameter in kernel_parameters:\n",
    "    degree_rand = randint(2, 5)\n",
    "    max_iter_random = randint(2, 5)\n",
    "\n",
    "    clf = svm.SVC(kernel=parameter, degree=degree_rand, max_iter=max_iter_random)\n",
    "    y_pred = clf.fit(X_train, y_train).predict(X_test)\n",
    "    print(f'''При kernel={parameter}, degree={degree_rand}, max_iter={max_iter_random}, неправильно классифицированные данные: {np.count_nonzero(y_test != y_pred)}, точность классификации: {clf.score(X, Y)}, векторы поддержки: {clf.support_vectors_}, индексы опорных векторов: {clf.support_}, количество опорных векторов для каждого класса: {clf.n_support_}''')\n"
   ]
  },
  {
   "cell_type": "markdown",
   "metadata": {
    "id": "gfF1lILZT7Sp"
   },
   "source": [
    "Аналогичен SVC, но использует параметр для управления количеством опорных векторов."
   ]
  },
  {
   "cell_type": "code",
   "execution_count": 45,
   "metadata": {
    "colab": {
     "base_uri": "https://localhost:8080/"
    },
    "id": "Et7GRGHoTa9R",
    "outputId": "90482146-e2e5-4692-9667-9f67b6a9ac6c"
   },
   "outputs": [
    {
     "name": "stdout",
     "output_type": "stream",
     "text": [
      "Неправильно классифицированные данные: 1 точность классификации: 0.9733333333333334, векторы поддержки: [[5.1 3.8 1.9 0.4]\n",
      " [5.4 3.4 1.5 0.4]\n",
      " [5.8 4.  1.2 0.2]\n",
      " [5.2 3.5 1.5 0.2]\n",
      " [5.7 4.4 1.5 0.4]\n",
      " [5.1 3.4 1.5 0.2]\n",
      " [4.5 2.3 1.3 0.3]\n",
      " [5.3 3.7 1.5 0.2]\n",
      " [4.8 3.  1.4 0.3]\n",
      " [5.  3.5 1.6 0.6]\n",
      " [4.8 3.1 1.6 0.2]\n",
      " [4.9 3.1 1.5 0.1]\n",
      " [5.  3.4 1.6 0.4]\n",
      " [5.  3.  1.6 0.2]\n",
      " [5.1 3.7 1.5 0.4]\n",
      " [5.1 3.8 1.6 0.2]\n",
      " [5.1 3.3 1.7 0.5]\n",
      " [4.9 3.1 1.5 0.1]\n",
      " [4.8 3.4 1.6 0.2]\n",
      " [4.8 3.4 1.9 0.2]\n",
      " [4.6 3.1 1.5 0.2]\n",
      " [5.4 3.9 1.7 0.4]\n",
      " [5.5 4.2 1.4 0.2]\n",
      " [4.9 3.  1.4 0.2]\n",
      " [4.9 3.1 1.5 0.1]\n",
      " [4.7 3.2 1.6 0.2]\n",
      " [5.4 3.7 1.5 0.2]\n",
      " [5.4 3.4 1.7 0.2]\n",
      " [5.6 3.  4.1 1.3]\n",
      " [6.7 3.  5.  1.7]\n",
      " [5.8 2.6 4.  1.2]\n",
      " [5.9 3.2 4.8 1.8]\n",
      " [6.  3.4 4.5 1.6]\n",
      " [6.3 3.3 4.7 1.6]\n",
      " [5.6 3.  4.5 1.5]\n",
      " [5.1 2.5 3.  1.1]\n",
      " [6.3 2.5 4.9 1.5]\n",
      " [6.1 3.  4.6 1.4]\n",
      " [6.4 2.9 4.3 1.3]\n",
      " [5.  2.3 3.3 1. ]\n",
      " [6.1 2.8 4.7 1.2]\n",
      " [5.5 2.6 4.4 1.2]\n",
      " [6.5 2.8 4.6 1.5]\n",
      " [6.6 3.  4.4 1.4]\n",
      " [7.  3.2 4.7 1.4]\n",
      " [5.9 3.  4.2 1.5]\n",
      " [5.5 2.4 3.8 1.1]\n",
      " [5.6 2.5 3.9 1.1]\n",
      " [6.9 3.1 4.9 1.5]\n",
      " [5.2 2.7 3.9 1.4]\n",
      " [6.4 3.2 4.5 1.5]\n",
      " [6.1 2.8 4.  1.3]\n",
      " [6.2 2.9 4.3 1.3]\n",
      " [5.5 2.4 3.7 1. ]\n",
      " [5.4 3.  4.5 1.5]\n",
      " [6.  2.9 4.5 1.5]\n",
      " [5.7 3.  4.2 1.2]\n",
      " [6.7 3.1 4.7 1.5]\n",
      " [5.8 2.7 3.9 1.2]\n",
      " [5.7 2.8 4.5 1.3]\n",
      " [5.5 2.5 4.  1.3]\n",
      " [5.8 2.7 4.1 1. ]\n",
      " [5.6 2.7 4.2 1.3]\n",
      " [5.6 2.9 3.6 1.3]\n",
      " [4.9 2.4 3.3 1. ]\n",
      " [5.7 2.6 3.5 1. ]\n",
      " [6.  2.7 5.1 1.6]\n",
      " [6.6 2.9 4.6 1.3]\n",
      " [6.2 2.2 4.5 1.5]\n",
      " [5.7 2.8 4.1 1.3]\n",
      " [6.7 3.1 4.4 1.4]\n",
      " [6.8 2.8 4.8 1.4]\n",
      " [6.3 2.3 4.4 1.3]\n",
      " [5.  2.  3.5 1. ]\n",
      " [5.5 2.3 4.  1.3]\n",
      " [7.7 3.8 6.7 2.2]\n",
      " [6.1 3.  4.9 1.8]\n",
      " [6.2 2.8 4.8 1.8]\n",
      " [6.3 2.8 5.1 1.5]\n",
      " [6.  2.2 5.  1.5]\n",
      " [6.2 3.4 5.4 2.3]\n",
      " [6.4 2.7 5.3 1.9]\n",
      " [6.7 3.  5.2 2.3]\n",
      " [6.9 3.1 5.4 2.1]\n",
      " [5.6 2.8 4.9 2. ]\n",
      " [7.2 3.  5.8 1.6]\n",
      " [5.9 3.  5.1 1.8]\n",
      " [5.8 2.7 5.1 1.9]\n",
      " [6.3 2.5 5.  1.9]\n",
      " [6.1 2.6 5.6 1.4]\n",
      " [6.3 2.9 5.6 1.8]\n",
      " [7.9 3.8 6.4 2. ]\n",
      " [6.4 3.1 5.5 1.8]\n",
      " [6.5 3.  5.2 2. ]\n",
      " [6.5 3.  5.5 1.8]\n",
      " [6.9 3.1 5.1 2.3]\n",
      " [6.4 3.2 5.3 2.3]\n",
      " [6.3 2.7 4.9 1.8]\n",
      " [5.7 2.5 5.  2. ]\n",
      " [7.7 2.8 6.7 2. ]\n",
      " [7.7 2.6 6.9 2.3]\n",
      " [5.8 2.8 5.1 2.4]\n",
      " [5.8 2.7 5.1 1.9]\n",
      " [4.9 2.5 4.5 1.7]\n",
      " [6.5 3.2 5.1 2. ]], индексы опорных векторов: [  5   8  14  17  24  26  42  50  52  57  59  63  66  76  79  82  86  95\n",
      "  98 101 103 107 112 115 118 119 124 136   3   6   7  12  13  18  21  22\n",
      "  33  37  38  39  47  48  51  54  55  60  69  70  73  74  75  80  83  84\n",
      "  87  88  90  91  96  99 108 110 113 116 117 120 122 123 125 128 131 132\n",
      " 139 140 141   1   2   4  16  19  28  30  31  32  34  36  40  45  49  53\n",
      "  62  64  65  67  72  77  85  89  94  97 105 109 114 126 138], количество опорных векторов для каждого класса: [28 47 30]\n"
     ]
    }
   ],
   "source": [
    "clf = svm.NuSVC()\n",
    "y_pred = clf.fit(X_train, y_train).predict(X_test)\n",
    "print(f'Неправильно классифицированные данные: {np.count_nonzero(y_test != y_pred)} точность классификации: {clf.score(X, Y)}, векторы поддержки: {clf.support_vectors_}, индексы опорных векторов: {clf.support_}, количество опорных векторов для каждого класса: {clf.n_support_}')"
   ]
  },
  {
   "cell_type": "markdown",
   "metadata": {
    "id": "HXHMwcJlT_ww"
   },
   "source": [
    "Аналогичен SVC с параметром kernel='linear', но реализован в терминах liblinear, а не libsvm, поэтому обладает большей гибкостью в выборе штрафов и функций потерь и должен лучше масштабироваться на большое количество выборок. Этот класс поддерживает как плотные, так и разреженные входные данные, а поддержка нескольких классов осуществляется по схеме 'один против остальных'.\n"
   ]
  },
  {
   "cell_type": "code",
   "execution_count": 46,
   "metadata": {
    "colab": {
     "base_uri": "https://localhost:8080/"
    },
    "id": "kw4jiZ7dT1Pn",
    "outputId": "d45c531e-8fd7-4be7-b673-c4346f944d34"
   },
   "outputs": [
    {
     "name": "stdout",
     "output_type": "stream",
     "text": [
      "Неправильно классифицированные данные: 0 точность классификации: 0.9733333333333334\n"
     ]
    }
   ],
   "source": [
    "clf = svm.LinearSVC()\n",
    "y_pred = clf.fit(X_train, y_train).predict(X_test)\n",
    "print(f'Неправильно классифицированные данные: {np.count_nonzero(y_test != y_pred)} точность классификации: {clf.score(X, Y)}')"
   ]
  }
 ],
 "metadata": {
  "colab": {
   "authorship_tag": "ABX9TyPiHpU+DU1ThWs51ZLCFAtU",
   "include_colab_link": true,
   "provenance": []
  },
  "kernelspec": {
   "display_name": "Python 3 (ipykernel)",
   "language": "python",
   "name": "python3"
  },
  "language_info": {
   "codemirror_mode": {
    "name": "ipython",
    "version": 3
   },
   "file_extension": ".py",
   "mimetype": "text/x-python",
   "name": "python",
   "nbconvert_exporter": "python",
   "pygments_lexer": "ipython3",
   "version": "3.10.6"
  }
 },
 "nbformat": 4,
 "nbformat_minor": 1
}
